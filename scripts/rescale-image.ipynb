{
 "cells": [
  {
   "cell_type": "code",
   "execution_count": 31,
   "metadata": {},
   "outputs": [],
   "source": [
    "from PIL import Image"
   ]
  },
  {
   "cell_type": "code",
   "execution_count": 32,
   "metadata": {},
   "outputs": [],
   "source": [
    "def resize_image(input_image_path, output_image_path, size):\n",
    "    original_image = Image.open(input_image_path)\n",
    "    width, height = original_image.size\n",
    "    print('The original image size is {wide} wide x {height} high'.format(wide=width, height=height))\n",
    " \n",
    "    resized_image = original_image.resize(size)\n",
    "    width, height = resized_image.size\n",
    "    print('The resized image size is {wide} wide x {height} high'.format(wide=width, height=height))\n",
    "    resized_image.show()\n",
    "    resized_image.save(output_image_path)"
   ]
  },
  {
   "cell_type": "code",
   "execution_count": 33,
   "metadata": {},
   "outputs": [
    {
     "name": "stdout",
     "output_type": "stream",
     "text": [
      "The original image size is 960 wide x 384 high\n",
      "The resized image size is 200 wide x 200 high\n"
     ]
    }
   ],
   "source": [
    "resize_image('./got.jpg', './_got-resized.jpg', (200, 200))"
   ]
  },
  {
   "cell_type": "code",
   "execution_count": 41,
   "metadata": {},
   "outputs": [],
   "source": [
    "def rescale_image(input_image_path, output_image_path, size):\n",
    "    original_image = Image.open(input_image_path)\n",
    "    width, height = original_image.size\n",
    "    w, h = size\n",
    "    \n",
    "    initialRatio = width / height\n",
    "    nextRatio = w / h\n",
    "    \n",
    "    if nextRatio > initialRatio:\n",
    "        nextHeight = w / initialRatio\n",
    "        nextWidth = w\n",
    "    else:\n",
    "        if nextRatio < initialRatio:\n",
    "            nextWidth = h * initialRatio\n",
    "            nextHeight = h\n",
    "        else:\n",
    "            nextWidth = w\n",
    "            nextHeight = h\n",
    "\n",
    "    resized_image = original_image.resize((round(nextWidth), round(nextHeight)), Image.NEAREST)\n",
    "    resized_image.save(output_image_path)"
   ]
  },
  {
   "cell_type": "code",
   "execution_count": 42,
   "metadata": {
    "scrolled": true
   },
   "outputs": [],
   "source": [
    "rescale_image('./got.jpg', './_got-rescaled.jpg', (200, 200))"
   ]
  },
  {
   "cell_type": "code",
   "execution_count": null,
   "metadata": {},
   "outputs": [],
   "source": []
  }
 ],
 "metadata": {
  "kernelspec": {
   "display_name": "sticker-face",
   "language": "python",
   "name": "sticker-face"
  },
  "language_info": {
   "codemirror_mode": {
    "name": "ipython",
    "version": 3
   },
   "file_extension": ".py",
   "mimetype": "text/x-python",
   "name": "python",
   "nbconvert_exporter": "python",
   "pygments_lexer": "ipython3",
   "version": "3.7.2"
  }
 },
 "nbformat": 4,
 "nbformat_minor": 2
}
